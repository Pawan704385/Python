{
 "cells": [
  {
   "cell_type": "markdown",
   "metadata": {
    "id": "XHvoVqK5mYA-"
   },
   "source": [
    "# <center>Pandas Assignment</center>"
   ]
  },
  {
   "cell_type": "markdown",
   "metadata": {
    "id": "v9Qb2_aumYBF"
   },
   "source": [
    "Import pandas and numpy with their aliases"
   ]
  },
  {
   "cell_type": "code",
   "execution_count": 8,
   "metadata": {
    "id": "ihFP1wXZmYBF"
   },
   "outputs": [],
   "source": [
    "import pandas as pd\n",
    "import numpy as np"
   ]
  },
  {
   "cell_type": "markdown",
   "metadata": {
    "id": "0b8hUBhTmYBG"
   },
   "source": [
    "Create a variable a = pd.Series([ 100, 200, 300, 400])"
   ]
  },
  {
   "cell_type": "code",
   "execution_count": 43,
   "metadata": {
    "id": "hzvzkbNYmYBH"
   },
   "outputs": [],
   "source": [
    "# a = \n",
    "a = pd.Series([100, 200, 300, 400])"
   ]
  },
  {
   "cell_type": "markdown",
   "metadata": {
    "id": "BSyNFbitmYBH"
   },
   "source": [
    "Print a, and data type"
   ]
  },
  {
   "cell_type": "code",
   "execution_count": 10,
   "metadata": {
    "id": "GMmFsjPamYBH",
    "outputId": "e21bf8f8-3d7a-4ec6-ea93-7885f9b0a648"
   },
   "outputs": [
    {
     "name": "stdout",
     "output_type": "stream",
     "text": [
      "0    100\n",
      "1    200\n",
      "2    300\n",
      "3    400\n",
      "dtype: int64\n",
      "<class 'pandas.core.series.Series'>\n"
     ]
    }
   ],
   "source": [
    "print(a)\n",
    "print(type(a))"
   ]
  },
  {
   "cell_type": "markdown",
   "metadata": {
    "id": "z0FryxOXmYBI"
   },
   "source": [
    "Using indexing access the element 300 from the series a."
   ]
  },
  {
   "cell_type": "code",
   "execution_count": 11,
   "metadata": {
    "id": "wERTsh-4mYBJ",
    "outputId": "de60a58f-c084-4955-ab6e-b453f6280c98"
   },
   "outputs": [
    {
     "name": "stdout",
     "output_type": "stream",
     "text": [
      "300\n"
     ]
    }
   ],
   "source": [
    "print(a[2])"
   ]
  },
  {
   "cell_type": "markdown",
   "metadata": {
    "id": "HHEKyOtemYBJ"
   },
   "source": [
    "What are the values of index for series a?"
   ]
  },
  {
   "cell_type": "code",
   "execution_count": 12,
   "metadata": {
    "id": "uQOnSJQ4mYBJ",
    "outputId": "de695171-b817-4495-bf3b-be91ade7c7c4"
   },
   "outputs": [
    {
     "name": "stdout",
     "output_type": "stream",
     "text": [
      "RangeIndex(start=0, stop=4, step=1)\n"
     ]
    }
   ],
   "source": [
    "print(a.index)"
   ]
  },
  {
   "cell_type": "markdown",
   "metadata": {
    "id": "EuFjG74wmYBJ"
   },
   "source": [
    "Change the index to  ['c', 'a', 'b', 'd']"
   ]
  },
  {
   "cell_type": "code",
   "execution_count": 13,
   "metadata": {
    "id": "1ueAAFiJmYBK",
    "outputId": "cc9737be-1c56-4b92-febb-ad609f07e14a"
   },
   "outputs": [
    {
     "name": "stdout",
     "output_type": "stream",
     "text": [
      "c    100\n",
      "a    200\n",
      "b    300\n",
      "d    400\n",
      "dtype: int64\n"
     ]
    }
   ],
   "source": [
    "a.index = ['c', 'a', 'b', 'd']\n",
    "print(a)"
   ]
  },
  {
   "cell_type": "markdown",
   "metadata": {
    "id": "ZdZLyRO7mYBK"
   },
   "source": [
    "Access the value in the series with index 'd'"
   ]
  },
  {
   "cell_type": "code",
   "execution_count": 14,
   "metadata": {
    "id": "oN1ce3GymYBK",
    "outputId": "cba39f6a-cd4d-4934-b5cf-49cafd4ddc31"
   },
   "outputs": [
    {
     "name": "stdout",
     "output_type": "stream",
     "text": [
      "400\n"
     ]
    }
   ],
   "source": [
    "print(a['d'])"
   ]
  },
  {
   "cell_type": "markdown",
   "metadata": {
    "id": "eQSGwKtFmYBK"
   },
   "source": [
    "Sort the values wrt to the index and print it"
   ]
  },
  {
   "cell_type": "code",
   "execution_count": 15,
   "metadata": {
    "id": "-arvricBmYBL",
    "outputId": "f1286103-c02c-4ee2-e25f-f8b0d8215198"
   },
   "outputs": [
    {
     "name": "stdout",
     "output_type": "stream",
     "text": [
      "a    200\n",
      "b    300\n",
      "c    100\n",
      "d    400\n",
      "dtype: int64\n"
     ]
    }
   ],
   "source": [
    "print(a.sort_index())"
   ]
  },
  {
   "cell_type": "markdown",
   "metadata": {
    "id": "g-fXVSK2mYBL"
   },
   "source": [
    "Create a new Pandas Series b having index as 'e', 'f', and 'g' and value 800,450,100 and print it"
   ]
  },
  {
   "cell_type": "code",
   "execution_count": 16,
   "metadata": {
    "id": "fAg_rI3hmYBL",
    "outputId": "0bf9ddea-64c2-402a-f129-cd640ffec5b2"
   },
   "outputs": [
    {
     "name": "stdout",
     "output_type": "stream",
     "text": [
      "e    800\n",
      "f    450\n",
      "g    100\n",
      "dtype: int64\n"
     ]
    }
   ],
   "source": [
    "# b = \n",
    "b = pd.Series([800, 450, 100], index=['e', 'f', 'g'])\n",
    "print(b)"
   ]
  },
  {
   "cell_type": "markdown",
   "metadata": {
    "id": "jWhRRtF1mYBL"
   },
   "source": [
    "Append b series at the end of a series"
   ]
  },
  {
   "cell_type": "code",
   "execution_count": 45,
   "metadata": {
    "id": "TBV8hkRXmYBL"
   },
   "outputs": [
    {
     "name": "stdout",
     "output_type": "stream",
     "text": [
      "0    100\n",
      "1    200\n",
      "2    300\n",
      "3    400\n",
      "e    800\n",
      "f    450\n",
      "g    100\n",
      "dtype: int64\n"
     ]
    }
   ],
   "source": [
    "# a =\n",
    "a = pd.concat([a, b])\n",
    "print(a)"
   ]
  },
  {
   "cell_type": "code",
   "execution_count": 18,
   "metadata": {
    "id": "Xfm5WgBYmYBM",
    "outputId": "45dbeb71-cdd2-46ac-8b76-947f9e4eab54"
   },
   "outputs": [
    {
     "name": "stdout",
     "output_type": "stream",
     "text": [
      "c    100\n",
      "a    200\n",
      "b    300\n",
      "d    400\n",
      "e    800\n",
      "f    450\n",
      "g    100\n",
      "dtype: int64\n"
     ]
    }
   ],
   "source": [
    "#print a again after appending b into it\n",
    "print(a)"
   ]
  },
  {
   "cell_type": "markdown",
   "metadata": {
    "id": "6lz_BR0umYBM"
   },
   "source": [
    "Sort the values in descending order of a and print the index of the sorted series"
   ]
  },
  {
   "cell_type": "code",
   "execution_count": 19,
   "metadata": {
    "id": "5srJV0y0mYBM"
   },
   "outputs": [
    {
     "name": "stdout",
     "output_type": "stream",
     "text": [
      "e    800\n",
      "f    450\n",
      "d    400\n",
      "b    300\n",
      "a    200\n",
      "c    100\n",
      "g    100\n",
      "dtype: int64\n",
      "Index(['e', 'f', 'd', 'b', 'a', 'c', 'g'], dtype='object')\n"
     ]
    }
   ],
   "source": [
    "# a = \n",
    "a = a.sort_values(ascending=False)\n",
    "print(a)\n",
    "print(a.index)"
   ]
  },
  {
   "cell_type": "markdown",
   "metadata": {
    "id": "OQ5gj4romYBM"
   },
   "source": [
    "## Pandas DataFrame"
   ]
  },
  {
   "cell_type": "markdown",
   "metadata": {
    "id": "tD7de_2amYBM"
   },
   "source": [
    "### Part 1"
   ]
  },
  {
   "cell_type": "markdown",
   "metadata": {
    "id": "z_nAQa4BmYBN"
   },
   "source": [
    "Create a pandas dataframe df from the series 'a' that we used in the last section, print the dataframe"
   ]
  },
  {
   "cell_type": "code",
   "execution_count": 20,
   "metadata": {
    "id": "ojD-B6FvmYBN",
    "outputId": "628c307e-fe67-471b-9ff6-e1167f0e9529"
   },
   "outputs": [
    {
     "name": "stdout",
     "output_type": "stream",
     "text": [
      "   points\n",
      "e     800\n",
      "f     450\n",
      "d     400\n",
      "b     300\n",
      "a     200\n",
      "c     100\n",
      "g     100\n"
     ]
    }
   ],
   "source": [
    "# df = \n",
    "df = pd.DataFrame(a, columns=['points'])\n",
    "print(df)"
   ]
  },
  {
   "cell_type": "markdown",
   "metadata": {
    "id": "yzrIH3irmYBN"
   },
   "source": [
    "What is the shape of the datafarme <br>\n",
    "(also, what does it imply?)"
   ]
  },
  {
   "cell_type": "code",
   "execution_count": 21,
   "metadata": {
    "id": "aFo5tNrVmYBN",
    "outputId": "f3145f5e-75b2-4bf0-87f3-07c405845ad4"
   },
   "outputs": [
    {
     "name": "stdout",
     "output_type": "stream",
     "text": [
      "(7, 1)\n"
     ]
    }
   ],
   "source": [
    "print(df.shape)"
   ]
  },
  {
   "cell_type": "markdown",
   "metadata": {
    "id": "Dl0Hr0LSmYBO"
   },
   "source": [
    "Hey! remember shape (7,1) implies dataframe has 7 rows and 1 column. "
   ]
  },
  {
   "cell_type": "markdown",
   "metadata": {
    "id": "hwcaXl43mYBO"
   },
   "source": [
    "What is the index of the dataframe, is it same as the series 'a' "
   ]
  },
  {
   "cell_type": "code",
   "execution_count": 22,
   "metadata": {
    "id": "1-gMxT-emYBO",
    "outputId": "25df79a2-b1c6-45af-b179-53b79fe23fcd"
   },
   "outputs": [
    {
     "name": "stdout",
     "output_type": "stream",
     "text": [
      "Index(['e', 'f', 'd', 'b', 'a', 'c', 'g'], dtype='object')\n"
     ]
    }
   ],
   "source": [
    "# yep its same as the series.\n",
    "print(df.index)\n"
   ]
  },
  {
   "cell_type": "markdown",
   "metadata": {
    "id": "C5wadnBymYBO"
   },
   "source": [
    "print the head and tail of the dataframe. <br>\n",
    "Additional - (what does head and tali represent?)"
   ]
  },
  {
   "cell_type": "code",
   "execution_count": 23,
   "metadata": {
    "id": "U2vxYrPnmYBO",
    "outputId": "7f439669-2345-46f9-f46e-d134fb09bbd7"
   },
   "outputs": [
    {
     "name": "stdout",
     "output_type": "stream",
     "text": [
      "   points\n",
      "e     800\n",
      "f     450\n",
      "d     400\n",
      "b     300\n",
      "a     200\n",
      "   points\n",
      "d     400\n",
      "b     300\n",
      "a     200\n",
      "c     100\n",
      "g     100\n"
     ]
    }
   ],
   "source": [
    "print(df.head())        # First 5 rows\n",
    "print(df.tail())        # Last  5 rows"
   ]
  },
  {
   "cell_type": "markdown",
   "metadata": {
    "id": "Ci2tiwbBmYBO"
   },
   "source": [
    "Rename the column of the dataframe as 'points'"
   ]
  },
  {
   "cell_type": "code",
   "execution_count": 24,
   "metadata": {
    "id": "K3OsbVD3mYBP",
    "outputId": "f49057a3-e48a-4124-c1f9-3ccdf264dbf3"
   },
   "outputs": [],
   "source": [
    "df.rename(columns={0: 'points'}, inplace=True)"
   ]
  },
  {
   "cell_type": "markdown",
   "metadata": {
    "id": "bBV0VfzzmYBP"
   },
   "source": [
    "Create another Series 'fruits', which contains random names of fruits from ['orange','mango','apple']. The series should contain 7 elements, randomly selected from ['orange','mango','apple']"
   ]
  },
  {
   "cell_type": "code",
   "execution_count": 25,
   "metadata": {
    "id": "baUmpsuhmYBP",
    "outputId": "8cbe922c-d257-4587-a7ff-93de58af7c0e"
   },
   "outputs": [
    {
     "name": "stdout",
     "output_type": "stream",
     "text": [
      "e     apple\n",
      "f     mango\n",
      "d     apple\n",
      "b     mango\n",
      "a     apple\n",
      "c     mango\n",
      "g    orange\n",
      "dtype: object\n"
     ]
    }
   ],
   "source": [
    "#Create fruits array\n",
    "# fruits =\n",
    "fruits = pd.Series(np.random.choice(['orange', 'mango', 'apple'], 7), index=df.index)\n",
    "print(fruits)"
   ]
  },
  {
   "cell_type": "markdown",
   "metadata": {
    "id": "oPv8dJ_2mYBQ"
   },
   "source": [
    "Add this fruits series as a new column to the dataframe df with its column name as 'fruits'\n",
    "<br>print the head of the dataframe to verify"
   ]
  },
  {
   "cell_type": "code",
   "execution_count": 26,
   "metadata": {
    "id": "tit_GDscmYBQ",
    "outputId": "a2d0549f-2846-4331-c159-2f76af6fe9e2"
   },
   "outputs": [
    {
     "name": "stdout",
     "output_type": "stream",
     "text": [
      "   points fruits\n",
      "e     800  apple\n",
      "f     450  mango\n",
      "d     400  apple\n",
      "b     300  mango\n",
      "a     200  apple\n"
     ]
    }
   ],
   "source": [
    "df['fruits'] = fruits\n",
    "print(df.head())"
   ]
  },
  {
   "cell_type": "markdown",
   "metadata": {
    "id": "ACsvenslmYBQ"
   },
   "source": [
    "## Pandas Concatenation"
   ]
  },
  {
   "cell_type": "markdown",
   "metadata": {
    "id": "cwgg82N0mYBQ"
   },
   "source": [
    "Create a dataframe  d1 where the cols are  ‘city’ : [‘Chandigarh’, ‘Delhi’, ‘Kanpur’, ‘Chennai’, ‘Manali’ ] and ‘Temperature’ : [15, 22, 20, 26,-2] "
   ]
  },
  {
   "cell_type": "code",
   "execution_count": 27,
   "metadata": {
    "id": "09tWwU18mYBR"
   },
   "outputs": [],
   "source": [
    "# d1 = \n",
    "d1 = pd.DataFrame({'city': ['Chandigarh', 'Delhi', 'Kanpur', 'Chennai', 'Manali'], \n",
    "                   'Temperature': [15, 22, 20, 26, -2]})\n"
   ]
  },
  {
   "cell_type": "markdown",
   "metadata": {
    "id": "XAquuUx_mYBR"
   },
   "source": [
    "Print(d1)"
   ]
  },
  {
   "cell_type": "code",
   "execution_count": 28,
   "metadata": {
    "id": "tEaf6dUVmYBR",
    "outputId": "02dd1795-381a-4d83-c8cc-37e15c066de8"
   },
   "outputs": [
    {
     "name": "stdout",
     "output_type": "stream",
     "text": [
      "         city  Temperature\n",
      "0  Chandigarh           15\n",
      "1       Delhi           22\n",
      "2      Kanpur           20\n",
      "3     Chennai           26\n",
      "4      Manali           -2\n"
     ]
    }
   ],
   "source": [
    "print(d1)"
   ]
  },
  {
   "cell_type": "markdown",
   "metadata": {
    "id": "YmZ9u-4FmYBR"
   },
   "source": [
    "What is the shape of d1."
   ]
  },
  {
   "cell_type": "code",
   "execution_count": 29,
   "metadata": {
    "id": "upPyfWR7mYBR",
    "outputId": "578b226c-493a-4e62-eb42-f29196452acf"
   },
   "outputs": [
    {
     "name": "stdout",
     "output_type": "stream",
     "text": [
      "(5, 2)\n"
     ]
    }
   ],
   "source": [
    "print(d1.shape)"
   ]
  },
  {
   "cell_type": "markdown",
   "metadata": {
    "id": "JtBQ5SLtmYBS"
   },
   "source": [
    "Set city = d1['city']"
   ]
  },
  {
   "cell_type": "code",
   "execution_count": 30,
   "metadata": {
    "id": "mzE78QzrmYBS"
   },
   "outputs": [],
   "source": [
    "city = d1['city']"
   ]
  },
  {
   "cell_type": "markdown",
   "metadata": {
    "id": "WubWnFIcmYBS"
   },
   "source": [
    "print city <br>\n",
    "What is the type of city."
   ]
  },
  {
   "cell_type": "code",
   "execution_count": 31,
   "metadata": {
    "id": "6d4EjYTemYBS",
    "outputId": "013b3d5f-4f17-45ca-bdbc-7c4f5166df33"
   },
   "outputs": [
    {
     "name": "stdout",
     "output_type": "stream",
     "text": [
      "0    Chandigarh\n",
      "1         Delhi\n",
      "2        Kanpur\n",
      "3       Chennai\n",
      "4        Manali\n",
      "Name: city, dtype: object\n",
      "<class 'pandas.core.series.Series'>\n"
     ]
    }
   ],
   "source": [
    "print(city)\n",
    "print(type(city))"
   ]
  },
  {
   "cell_type": "markdown",
   "metadata": {
    "id": "uUdrLgg6mYBS"
   },
   "source": [
    "Create another datafeame 'd2' where the columns are <br>\n",
    "'city' - ['Bengalaru','Coimbatore','Srirangam','Pondicherry'] <br>\n",
    "'Temperature' - [24,35,36,39]"
   ]
  },
  {
   "cell_type": "code",
   "execution_count": 32,
   "metadata": {
    "id": "CFBCGcvhmYBS",
    "outputId": "fc5089d3-dfb0-438a-b654-920f5d5dac5d"
   },
   "outputs": [
    {
     "name": "stdout",
     "output_type": "stream",
     "text": [
      "          city  Tempreature\n",
      "0    Bengaluru           24\n",
      "1   Coimbatore           35\n",
      "2    Srirangam           36\n",
      "3  Pondicherry           39\n"
     ]
    }
   ],
   "source": [
    "# d2 = \n",
    "d2 = pd.DataFrame({'city': ['Bengaluru', 'Coimbatore', 'Srirangam', 'Pondicherry'],\n",
    "                   'Tempreature': [24, 35, 36, 39]})\n",
    "print(d2)"
   ]
  },
  {
   "cell_type": "markdown",
   "metadata": {
    "id": "HivVdLN5mYBT"
   },
   "source": [
    "print the shape of this dataframe"
   ]
  },
  {
   "cell_type": "code",
   "execution_count": 33,
   "metadata": {
    "id": "9FFgtQJhmYBT",
    "outputId": "e2f88a69-e913-4b37-c118-8e6b3f9153c7"
   },
   "outputs": [
    {
     "name": "stdout",
     "output_type": "stream",
     "text": [
      "(4, 2)\n"
     ]
    }
   ],
   "source": [
    "print(d2.shape)"
   ]
  },
  {
   "cell_type": "markdown",
   "metadata": {
    "id": "UK38h5ktmYBT"
   },
   "source": [
    "merge the two dataframes together, save it in a new dataframe named 'd3'"
   ]
  },
  {
   "cell_type": "code",
   "execution_count": 34,
   "metadata": {
    "id": "GMbOPfjCmYBT",
    "outputId": "66c2b828-c00a-4393-c49c-68057f447fb2"
   },
   "outputs": [
    {
     "name": "stdout",
     "output_type": "stream",
     "text": [
      "          city  Temperature  Tempreature\n",
      "0   Chandigarh         15.0          NaN\n",
      "1        Delhi         22.0          NaN\n",
      "2       Kanpur         20.0          NaN\n",
      "3      Chennai         26.0          NaN\n",
      "4       Manali         -2.0          NaN\n",
      "5    Bengaluru          NaN         24.0\n",
      "6   Coimbatore          NaN         35.0\n",
      "7    Srirangam          NaN         36.0\n",
      "8  Pondicherry          NaN         39.0\n"
     ]
    }
   ],
   "source": [
    "# d3 = \n",
    "d3 = pd.concat([d1, d2], ignore_index=True)\n",
    "print(d3)"
   ]
  },
  {
   "cell_type": "markdown",
   "metadata": {
    "id": "1dGlNGzjmYBT"
   },
   "source": [
    "Select the part of the dataframe such that it contains cities wherer temp is less then or equal to 20 <br>\n",
    "How many cities are there? "
   ]
  },
  {
   "cell_type": "code",
   "execution_count": 35,
   "metadata": {
    "id": "1vtC2UkgmYBT",
    "outputId": "629b26f6-140b-4f57-c794-2202d80300b2"
   },
   "outputs": [
    {
     "name": "stdout",
     "output_type": "stream",
     "text": [
      "Empty DataFrame\n",
      "Columns: [city, Temperature, Tempreature]\n",
      "Index: []\n"
     ]
    }
   ],
   "source": [
    "print(d3[d3['Tempreature'] <= 20])"
   ]
  },
  {
   "cell_type": "markdown",
   "metadata": {
    "id": "82QIQRQUmYBT"
   },
   "source": [
    "Select the part of the dataframe such that it contains the cities where tempearature greater than or equal to 35"
   ]
  },
  {
   "cell_type": "code",
   "execution_count": 36,
   "metadata": {
    "id": "Ea_hMtyGmYBU",
    "outputId": "540b5d81-ad25-4408-927f-0919887a8100"
   },
   "outputs": [
    {
     "name": "stdout",
     "output_type": "stream",
     "text": [
      "          city  Temperature  Tempreature\n",
      "6   Coimbatore          NaN         35.0\n",
      "7    Srirangam          NaN         36.0\n",
      "8  Pondicherry          NaN         39.0\n"
     ]
    }
   ],
   "source": [
    "print(d3[d3['Tempreature'] >= 35])"
   ]
  },
  {
   "cell_type": "markdown",
   "metadata": {
    "id": "BrYscXpWmYBU"
   },
   "source": [
    "## Applying functions to columns and creating new columns"
   ]
  },
  {
   "cell_type": "markdown",
   "metadata": {
    "id": "7Z4ioDxtmYBU"
   },
   "source": [
    "We need to create another column in d3, which contains  a boolean value for each city to indicate whether it's a union territory or not. \n",
    "- HINT: Chandigarh, Pondicherry and Delhi are only 3 union territories here. \n"
   ]
  },
  {
   "cell_type": "code",
   "execution_count": 47,
   "metadata": {
    "id": "FR2wgv6tmYBU"
   },
   "outputs": [],
   "source": [
    "# write function here\n",
    "\n",
    "# def is_ut(x):\n",
    "    \n",
    "#     # write code below\n",
    "    \n",
    "# d3['is_ut'] = \n",
    "def is_ut(city):\n",
    "    return city in ['Chandigarh', 'Pondicherry', 'Delhi']\n",
    "\n",
    "d3['is_ut'] = d3['city'].apply(is_ut)\n"
   ]
  },
  {
   "cell_type": "code",
   "execution_count": 46,
   "metadata": {
    "id": "0hd7QjComYBU",
    "outputId": "8a788eef-b933-48b0-d1f0-fdaa5b25d102"
   },
   "outputs": [
    {
     "name": "stdout",
     "output_type": "stream",
     "text": [
      "          city  Temperature  Tempreature\n",
      "0   Chandigarh         15.0          NaN\n",
      "1        Delhi         22.0          NaN\n",
      "2       Kanpur         20.0          NaN\n",
      "3      Chennai         26.0          NaN\n",
      "4       Manali         -2.0          NaN\n",
      "5    Bengaluru          NaN         24.0\n",
      "6   Coimbatore          NaN         35.0\n",
      "7    Srirangam          NaN         36.0\n",
      "8  Pondicherry          NaN         39.0\n"
     ]
    }
   ],
   "source": [
    "# print d3\n",
    "print(d3)"
   ]
  },
  {
   "cell_type": "markdown",
   "id": "7f6a9b33",
   "metadata": {},
   "source": []
  },
  {
   "cell_type": "markdown",
   "metadata": {
    "id": "z88YETlMmYBU"
   },
   "source": [
    "The temperatures mentioned in ‘Temperature’ column are mentioned in Celsius, we need another column which contains the same in Fahrenheit. "
   ]
  },
  {
   "cell_type": "markdown",
   "metadata": {
    "id": "ywp07m-xmYBU"
   },
   "source": [
    "HINT - \n",
    "- Define a function c_to_f which takes input temp in celsius and returns a value with temperature in Fahrenheit.\n",
    "- To check: c_to_f(10) should return 50. \n"
   ]
  },
  {
   "cell_type": "code",
   "execution_count": 50,
   "metadata": {
    "id": "V0x_0IAAmYBV"
   },
   "outputs": [],
   "source": [
    "# write function here\n",
    "def c_to_f(temp):\n",
    "    return (temp * 9/5) + 32"
   ]
  },
  {
   "cell_type": "code",
   "execution_count": 40,
   "metadata": {
    "id": "Wc9meranmYBV",
    "outputId": "d83f0f45-482d-48a6-9226-2ea5ccac4e55"
   },
   "outputs": [
    {
     "name": "stdout",
     "output_type": "stream",
     "text": [
      "50.0\n"
     ]
    }
   ],
   "source": [
    "# check function c_to_f(10)\n",
    "print(c_to_f(10))"
   ]
  },
  {
   "cell_type": "code",
   "execution_count": 51,
   "metadata": {
    "id": "H79GUcoImYBV",
    "outputId": "834607ff-0221-45b5-d5b0-64b13a3acdfa"
   },
   "outputs": [
    {
     "name": "stdout",
     "output_type": "stream",
     "text": [
      "         city  Temperature  temp_fahrenheit\n",
      "0  Chandigarh           15             59.0\n",
      "1       Delhi           22             71.6\n",
      "2      Kanpur           20             68.0\n",
      "3     Chennai           26             78.8\n",
      "4      Manali           -2             28.4\n"
     ]
    }
   ],
   "source": [
    "# apply function c_to_f to d3 to create a column 'temp_farenhiet'\n",
    "d3 = pd.DataFrame({'city': ['Chandigarh', 'Delhi', 'Kanpur', 'Chennai', 'Manali'], \n",
    "                   'Temperature': [15, 22, 20, 26, -2]})\n",
    "\n",
    "d3['temp_fahrenheit'] = d3['Temperature'].apply(c_to_f)\n",
    "print(d3)"
   ]
  },
  {
   "cell_type": "markdown",
   "metadata": {
    "id": "Wj0p6JKHmYBV"
   },
   "source": [
    "## Indexing and selecting rows in DataFrame"
   ]
  },
  {
   "cell_type": "markdown",
   "metadata": {
    "id": "fFitRJy2mYBV"
   },
   "source": [
    "Select subset of the dataframe d1 such that it contains the cities which are union territories."
   ]
  },
  {
   "cell_type": "code",
   "execution_count": 54,
   "metadata": {
    "id": "Kg8OSVz0mYBV",
    "outputId": "686083a4-3b1f-4c7d-8fb8-d26aac318e52"
   },
   "outputs": [
    {
     "name": "stdout",
     "output_type": "stream",
     "text": [
      "         city  Temperature\n",
      "0  Chandigarh           15\n",
      "1       Delhi           22\n"
     ]
    }
   ],
   "source": [
    "union_territories = ['Chandigarh', 'Delhi', 'Pondicherry']\n",
    "subset_ut = d1[d1['city'].isin(union_territories)]\n",
    "print(subset_ut)"
   ]
  },
  {
   "cell_type": "markdown",
   "metadata": {
    "id": "XnxQl4ZPmYBV"
   },
   "source": [
    "Select a subset of the dataframe d1 such that it contains the cities which only have temperature above 90 Farenhiet."
   ]
  },
  {
   "cell_type": "code",
   "execution_count": 55,
   "metadata": {
    "id": "9o62VSn7mYBV",
    "outputId": "0cf73a78-2dfc-4be7-9bea-43fd0318b657"
   },
   "outputs": [
    {
     "name": "stdout",
     "output_type": "stream",
     "text": [
      "Empty DataFrame\n",
      "Columns: [city, Temperature]\n",
      "Index: []\n"
     ]
    }
   ],
   "source": [
    "subset_above_90f = d1[d1['Temperature'].apply(c_to_f) > 90]\n",
    "print(subset_above_90f)"
   ]
  },
  {
   "cell_type": "markdown",
   "metadata": {
    "id": "IQq7K2EtmYBW"
   },
   "source": [
    "Select only the first three rows of the dataframe d1. \n"
   ]
  },
  {
   "cell_type": "code",
   "execution_count": 56,
   "metadata": {
    "id": "PlmVOyAAmYBW",
    "outputId": "2c1d6ad5-1e08-4f31-d0c0-c1fbf8289d32"
   },
   "outputs": [
    {
     "name": "stdout",
     "output_type": "stream",
     "text": [
      "         city  Temperature\n",
      "0  Chandigarh           15\n",
      "1       Delhi           22\n",
      "2      Kanpur           20\n"
     ]
    }
   ],
   "source": [
    "first_three_rows = d1.iloc[:3]\n",
    "print(first_three_rows)"
   ]
  },
  {
   "cell_type": "markdown",
   "metadata": {
    "id": "MKNIbwW2mYBW"
   },
   "source": [
    "Select all the rows and last two columns in the dataframe.\n",
    "\n",
    "\n"
   ]
  },
  {
   "cell_type": "code",
   "execution_count": 57,
   "metadata": {
    "id": "WfQasVJImYBW",
    "outputId": "c157a66e-61b9-4a9a-e7f1-6ee392ccfe3a"
   },
   "outputs": [
    {
     "name": "stdout",
     "output_type": "stream",
     "text": [
      "         city  Temperature\n",
      "0  Chandigarh           15\n",
      "1       Delhi           22\n",
      "2      Kanpur           20\n",
      "3     Chennai           26\n",
      "4      Manali           -2\n"
     ]
    }
   ],
   "source": [
    "last_two_columns = d1.iloc[:, -2:]\n",
    "print(last_two_columns)"
   ]
  },
  {
   "cell_type": "markdown",
   "metadata": {
    "id": "LQ9xspkHmYBW"
   },
   "source": [
    "## Groupby"
   ]
  },
  {
   "cell_type": "code",
   "execution_count": 58,
   "metadata": {},
   "outputs": [
    {
     "name": "stdout",
     "output_type": "stream",
     "text": [
      "  category  values  scores\n",
      "0        A      10     100\n",
      "1        B      20     200\n",
      "2        A      30     150\n",
      "3        B      40     300\n",
      "4        C      50     400\n",
      "5        C      60     250\n"
     ]
    }
   ],
   "source": [
    "# Create a dataframe using dictionary of your choice\n",
    "\n",
    "data = pd.DataFrame({'category': ['A', 'B', 'A', 'B', 'C', 'C'], 'values': [10, 20, 30, 40, 50, 60], 'scores': [100, 200, 150, 300, 400, 250]})\n",
    "print(data)"
   ]
  },
  {
   "cell_type": "code",
   "execution_count": 60,
   "metadata": {},
   "outputs": [
    {
     "name": "stdout",
     "output_type": "stream",
     "text": [
      "category\n",
      "A     40\n",
      "B     60\n",
      "C    110\n",
      "Name: values, dtype: int64\n"
     ]
    }
   ],
   "source": [
    "# Use Groupby of single column with aggregate sum()\n",
    "group_sum = data.groupby('category') ['values'].sum()\n",
    "print(group_sum)"
   ]
  },
  {
   "cell_type": "code",
   "execution_count": 61,
   "metadata": {},
   "outputs": [
    {
     "name": "stdout",
     "output_type": "stream",
     "text": [
      "category\n",
      "A    2\n",
      "B    2\n",
      "C    2\n",
      "Name: values, dtype: int64\n"
     ]
    }
   ],
   "source": [
    "# Use Groupby of single column with aggregate count()\n",
    "group_count = data.groupby('category') ['values'].count()\n",
    "print(group_count)"
   ]
  },
  {
   "cell_type": "code",
   "execution_count": 63,
   "metadata": {},
   "outputs": [
    {
     "name": "stdout",
     "output_type": "stream",
     "text": [
      "          min  max\n",
      "category          \n",
      "A          10   30\n",
      "B          20   40\n",
      "C          50   60\n"
     ]
    }
   ],
   "source": [
    "# Use Groupby of single column with aggregate min() and max()\n",
    "group_min_max = data.groupby('category') ['values'].agg(['min', 'max'])\n",
    "print(group_min_max)"
   ]
  },
  {
   "cell_type": "code",
   "execution_count": 65,
   "metadata": {},
   "outputs": [
    {
     "name": "stdout",
     "output_type": "stream",
     "text": [
      "category  scores\n",
      "A         100       10.0\n",
      "          150       30.0\n",
      "B         200       20.0\n",
      "          300       40.0\n",
      "C         250       60.0\n",
      "          400       50.0\n",
      "Name: values, dtype: float64\n"
     ]
    }
   ],
   "source": [
    "# Use Groupby of any 2 columns with aggregate mean()\n",
    "group_mean = data.groupby(['category', 'scores']) ['values'].mean()\n",
    "print(group_mean)"
   ]
  },
  {
   "cell_type": "code",
   "execution_count": 66,
   "metadata": {},
   "outputs": [
    {
     "name": "stdout",
     "output_type": "stream",
     "text": [
      "                 min  max\n",
      "category scores          \n",
      "A        100      10   10\n",
      "         150      30   30\n",
      "B        200      20   20\n",
      "         300      40   40\n",
      "C        250      60   60\n",
      "         400      50   50\n"
     ]
    }
   ],
   "source": [
    "# Use Groupby of any 2 columns with aggregate min() and max()\n",
    "group_min_max_two = data.groupby(['category', 'scores']) ['values'].agg(['min', 'max'])\n",
    "print(group_min_max_two)"
   ]
  },
  {
   "cell_type": "markdown",
   "metadata": {
    "id": "goEgED0xmYBY"
   },
   "source": [
    "## Data Range"
   ]
  },
  {
   "cell_type": "markdown",
   "metadata": {
    "id": "jJOxVdLemYBY"
   },
   "source": [
    "Create a pandas daterange where starting date is 1st of January,2020 and end date is 1st of April 2021, store it in a new variable named 'a'"
   ]
  },
  {
   "cell_type": "code",
   "execution_count": 67,
   "metadata": {
    "id": "Nvx8f5GTmYBZ"
   },
   "outputs": [
    {
     "name": "stdout",
     "output_type": "stream",
     "text": [
      "DatetimeIndex(['2020-01-01', '2020-01-02', '2020-01-03', '2020-01-04',\n",
      "               '2020-01-05', '2020-01-06', '2020-01-07', '2020-01-08',\n",
      "               '2020-01-09', '2020-01-10',\n",
      "               ...\n",
      "               '2021-03-23', '2021-03-24', '2021-03-25', '2021-03-26',\n",
      "               '2021-03-27', '2021-03-28', '2021-03-29', '2021-03-30',\n",
      "               '2021-03-31', '2021-04-01'],\n",
      "              dtype='datetime64[ns]', length=457, freq='D')\n"
     ]
    }
   ],
   "source": [
    "# a = \n",
    "a = pd.date_range(start='2020-01-01', end='2021-04-01')"
   ]
  },
  {
   "cell_type": "markdown",
   "metadata": {
    "id": "ybvAMVSzmYBZ"
   },
   "source": [
    "print a"
   ]
  },
  {
   "cell_type": "code",
   "execution_count": 68,
   "metadata": {
    "id": "TOe-Alj8mYBZ",
    "outputId": "a0e830f7-6826-4082-98c4-cc02bcfe43f3"
   },
   "outputs": [
    {
     "name": "stdout",
     "output_type": "stream",
     "text": [
      "DatetimeIndex(['2020-01-01', '2020-01-02', '2020-01-03', '2020-01-04',\n",
      "               '2020-01-05', '2020-01-06', '2020-01-07', '2020-01-08',\n",
      "               '2020-01-09', '2020-01-10',\n",
      "               ...\n",
      "               '2021-03-23', '2021-03-24', '2021-03-25', '2021-03-26',\n",
      "               '2021-03-27', '2021-03-28', '2021-03-29', '2021-03-30',\n",
      "               '2021-03-31', '2021-04-01'],\n",
      "              dtype='datetime64[ns]', length=457, freq='D')\n"
     ]
    }
   ],
   "source": [
    "print(a)"
   ]
  },
  {
   "cell_type": "markdown",
   "metadata": {
    "id": "vI1gctGmmYBZ"
   },
   "source": [
    "What is the len of a?"
   ]
  },
  {
   "cell_type": "code",
   "execution_count": 69,
   "metadata": {
    "id": "D66uR7vDmYBZ",
    "outputId": "c3fcbc58-7b57-4cf8-bc44-85303b525c6e"
   },
   "outputs": [
    {
     "name": "stdout",
     "output_type": "stream",
     "text": [
      "457\n"
     ]
    }
   ],
   "source": [
    "print(len(a))"
   ]
  },
  {
   "cell_type": "markdown",
   "metadata": {
    "id": "MQvcL-SImYBZ"
   },
   "source": [
    "What is the type of a?"
   ]
  },
  {
   "cell_type": "code",
   "execution_count": 70,
   "metadata": {
    "id": "cnb8Z0CXmYBZ",
    "outputId": "a72dc4cd-5225-4098-8084-900f69caeb81"
   },
   "outputs": [
    {
     "name": "stdout",
     "output_type": "stream",
     "text": [
      "<class 'pandas.core.indexes.datetimes.DatetimeIndex'>\n"
     ]
    }
   ],
   "source": [
    "print(type(a))"
   ]
  }
 ],
 "metadata": {
  "colab": {
   "collapsed_sections": [],
   "provenance": []
  },
  "kernelspec": {
   "display_name": "Python 3",
   "language": "python",
   "name": "python3"
  },
  "language_info": {
   "codemirror_mode": {
    "name": "ipython",
    "version": 3
   },
   "file_extension": ".py",
   "mimetype": "text/x-python",
   "name": "python",
   "nbconvert_exporter": "python",
   "pygments_lexer": "ipython3",
   "version": "3.13.0"
  }
 },
 "nbformat": 4,
 "nbformat_minor": 5
}
