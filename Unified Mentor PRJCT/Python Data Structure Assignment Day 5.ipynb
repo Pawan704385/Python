{
 "cells": [
  {
   "cell_type": "markdown",
   "id": "97a91b59",
   "metadata": {
    "id": "jGxqF4aIjNSq"
   },
   "source": [
    "<a id='1'></a><center> <h3 style=\"background-color:orange; color:white\" ><br>Python Data Structures<br></h3>"
   ]
  },
  {
   "cell_type": "markdown",
   "id": "d3993eb7",
   "metadata": {},
   "source": [
    "# `Types of Data Structures:`\n",
    "* `List` | `Tuple`\n",
    "* `Set` | `Dictionary`"
   ]
  },
  {
   "cell_type": "markdown",
   "id": "46f5a69e",
   "metadata": {},
   "source": [
    "|Data Structures type|Mutable|Comments|Indexing|Ordered|Duplicacy|\n",
    "|----|----|----|----|----|----|\n",
    "tuple ()|immutable|immutable version of list| possible|yes |allowed |\n",
    "list []|mutable|-|possible |yes | allowed |\n",
    "set {}|mutable| -|not |no |not |\n",
    "dict {key:value}|mutable|-|possible |no |not  |"
   ]
  },
  {
   "cell_type": "markdown",
   "id": "2b3d0531",
   "metadata": {},
   "source": [
    "💫 `immutable` => `can't be changed` <br>\n",
    "💫 `mutable` => `can be changed`"
   ]
  },
  {
   "cell_type": "code",
   "execution_count": null,
   "id": "eb7ae3ca",
   "metadata": {},
   "outputs": [],
   "source": []
  },
  {
   "cell_type": "markdown",
   "id": "fff64a3c",
   "metadata": {
    "id": "Tyavi31ZjNSw"
   },
   "source": [
    "## Lists\n",
    "\n"
   ]
  },
  {
   "cell_type": "markdown",
   "id": "9027cee5",
   "metadata": {
    "id": "tkDQdRdUjNSy"
   },
   "source": [
    "### Create an empty list with the name ‘a’, print the value of a and type(a).\n"
   ]
  },
  {
   "cell_type": "code",
   "execution_count": 135,
   "id": "ca7d2622",
   "metadata": {
    "id": "a6i4yNGvjNSz"
   },
   "outputs": [],
   "source": [
    "# create empty list, name it 'a'\n",
    "a = []"
   ]
  },
  {
   "cell_type": "code",
   "execution_count": 136,
   "id": "f337a455",
   "metadata": {
    "id": "M8FMNQEgjNS0",
    "outputId": "e614518d-cd99-4602-c082-7fcc1f9a0e3a"
   },
   "outputs": [
    {
     "name": "stdout",
     "output_type": "stream",
     "text": [
      "value of a: <class 'list'>\n"
     ]
    }
   ],
   "source": [
    "# print the value of a\n",
    "print(\"value of a:\", type(a))\n"
   ]
  },
  {
   "cell_type": "code",
   "execution_count": 137,
   "id": "2b8046c2",
   "metadata": {
    "id": "Jfc9sg1vjNS1",
    "outputId": "462464e7-25c1-4a23-80cb-f8c6cf93fb18"
   },
   "outputs": [
    {
     "name": "stdout",
     "output_type": "stream",
     "text": [
      "type of a: <class 'list'>\n"
     ]
    }
   ],
   "source": [
    "# print the type of a\n",
    "print(\"type of a:\", type(a))"
   ]
  },
  {
   "cell_type": "markdown",
   "id": "a00cdd87",
   "metadata": {
    "id": "UNpN9_w4jNS1"
   },
   "source": [
    "### Create a list , languages = ['R','Python', 'SAS', 'Scala', 42], "
   ]
  },
  {
   "cell_type": "code",
   "execution_count": 138,
   "id": "009ac9c4",
   "metadata": {
    "id": "x-TG-vc5jNS2"
   },
   "outputs": [
    {
     "name": "stdout",
     "output_type": "stream",
     "text": [
      "updated list a: [10, 20, 30, 40, 50]\n"
     ]
    }
   ],
   "source": [
    "languages = ['R', 'Python', 'SAS', 'Scala', 42]\n",
    "a.extend([10, 20, 30, 40, 50])\n",
    "print(\"updated list a:\", a)"
   ]
  },
  {
   "cell_type": "markdown",
   "id": "7cc9e345",
   "metadata": {
    "id": "JDSIK8TbjNS3"
   },
   "source": [
    "Print the number of elements in the list"
   ]
  },
  {
   "cell_type": "code",
   "execution_count": 139,
   "id": "84be4e8f",
   "metadata": {
    "id": "C4lBMaM8jNS3",
    "outputId": "8f553c2e-3d4f-4a3c-ddb3-49b32c4d6fce"
   },
   "outputs": [
    {
     "name": "stdout",
     "output_type": "stream",
     "text": [
      "number of elements in the list: 5\n",
      "4th element of a: 40\n"
     ]
    }
   ],
   "source": [
    "print(\"number of elements in the list:\", len(languages))\n",
    "print(\"4th element of a:\", a[3])"
   ]
  },
  {
   "cell_type": "markdown",
   "id": "97ccc7f7",
   "metadata": {
    "id": "EyzO_pcnjNS3"
   },
   "source": [
    "Using for loop iterate and print all the elements in the list"
   ]
  },
  {
   "cell_type": "code",
   "execution_count": 140,
   "id": "076c3798",
   "metadata": {
    "id": "TyM54ydsjNS4",
    "outputId": "a83aecf6-2a59-4d56-ee29-d0c3f0711bc4"
   },
   "outputs": [
    {
     "name": "stdout",
     "output_type": "stream",
     "text": [
      "10\n",
      "20\n",
      "30\n",
      "40\n",
      "50\n",
      "list after inserting 25 at 3rd position: [10, 20, 25, 30, 40, 50]\n"
     ]
    }
   ],
   "source": [
    "for i in a:\n",
    "    print(i)\n",
    "\n",
    "a.insert(2, 25)\n",
    "print(\"list after inserting 25 at 3rd position:\", a)"
   ]
  },
  {
   "cell_type": "markdown",
   "id": "8aaebe27",
   "metadata": {
    "id": "eC1fqz9LjNS4"
   },
   "source": [
    "Select the second item, 'Python' and store it in a new variable named 'temp'"
   ]
  },
  {
   "cell_type": "code",
   "execution_count": 141,
   "id": "9f5fbfe8",
   "metadata": {
    "id": "KY0KhRlOjNS4"
   },
   "outputs": [],
   "source": [
    "temp = languages[1]"
   ]
  },
  {
   "cell_type": "markdown",
   "id": "06aed176",
   "metadata": {
    "id": "breORMa_jNS4"
   },
   "source": [
    "Print the value of temp and type(temp)"
   ]
  },
  {
   "cell_type": "code",
   "execution_count": 142,
   "id": "0de45a83",
   "metadata": {
    "id": "MbvX2aIgjNS5",
    "outputId": "f8ec4c46-26d8-4822-c3c7-b18a6cc7f149"
   },
   "outputs": [
    {
     "name": "stdout",
     "output_type": "stream",
     "text": [
      "value of temp: Python\n",
      "type of temp: <class 'str'>\n"
     ]
    }
   ],
   "source": [
    "print(\"value of temp:\", temp)\n",
    "print(\"type of temp:\", type(temp))"
   ]
  },
  {
   "cell_type": "markdown",
   "id": "019e2fff",
   "metadata": {
    "id": "I4MrKlAUjNS5"
   },
   "source": [
    "Append the element 'Java' in the list"
   ]
  },
  {
   "cell_type": "code",
   "execution_count": 143,
   "id": "34f171ef",
   "metadata": {
    "id": "rOtqZY6PjNS6"
   },
   "outputs": [
    {
     "name": "stdout",
     "output_type": "stream",
     "text": [
      "list after appending 'java': ['R', 'Python', 'SAS', 'Scala', 42, 'java']\n"
     ]
    }
   ],
   "source": [
    "languages.append('java')\n",
    "print(\"list after appending 'java':\", languages)"
   ]
  },
  {
   "cell_type": "markdown",
   "id": "b25d265e",
   "metadata": {
    "id": "ksEn8qvFjNS6"
   },
   "source": [
    "Remove the element 42 from the list and print the list"
   ]
  },
  {
   "cell_type": "code",
   "execution_count": 144,
   "id": "d424e3a7",
   "metadata": {
    "id": "Lxuzfc1bjNS6",
    "outputId": "71e5abaf-0020-44d5-af96-9b6f832ce001"
   },
   "outputs": [
    {
     "name": "stdout",
     "output_type": "stream",
     "text": [
      "list after removing 42: ['R', 'Python', 'SAS', 'Scala', 'java']\n"
     ]
    }
   ],
   "source": [
    "languages.remove(42)\n",
    "print(\"list after removing 42:\", languages)"
   ]
  },
  {
   "cell_type": "markdown",
   "id": "6d8ad6a9",
   "metadata": {
    "id": "19MjI0w6jNS6"
   },
   "source": [
    "### Create a list, colors = [‘Red’, ‘Blue’, ‘White’]"
   ]
  },
  {
   "cell_type": "code",
   "execution_count": 145,
   "id": "10233571",
   "metadata": {
    "id": "Z1lMzdbWjNS7"
   },
   "outputs": [],
   "source": [
    "colors = ['red', 'blue', 'white']"
   ]
  },
  {
   "cell_type": "markdown",
   "id": "9615e755",
   "metadata": {
    "id": "VAqLj5R3jNS7"
   },
   "source": [
    "Append the element 'Black' to colors"
   ]
  },
  {
   "cell_type": "code",
   "execution_count": 146,
   "id": "613182b2",
   "metadata": {
    "id": "gvb5iC7ljNS7"
   },
   "outputs": [
    {
     "name": "stdout",
     "output_type": "stream",
     "text": [
      "list after appending 'black': ['red', 'blue', 'white', 'black']\n"
     ]
    }
   ],
   "source": [
    "colors.append('black')\n",
    "print(\"list after appending 'black':\", colors)"
   ]
  },
  {
   "cell_type": "markdown",
   "id": "a9e9927c",
   "metadata": {
    "id": "MFWIzVcvjNS7"
   },
   "source": [
    "Append the color 'Orange' to second position (index=1) and print the list"
   ]
  },
  {
   "cell_type": "code",
   "execution_count": 147,
   "id": "60c163ad",
   "metadata": {
    "id": "Fb6YZDSNjNS8"
   },
   "outputs": [],
   "source": [
    "colors.insert(1, 'orange')"
   ]
  },
  {
   "cell_type": "markdown",
   "id": "2ddf812b",
   "metadata": {
    "id": "8DWB76AOjNS8"
   },
   "source": [
    "Print the list\n"
   ]
  },
  {
   "cell_type": "code",
   "execution_count": 148,
   "id": "66338020",
   "metadata": {
    "id": "0ldkGCozjNS8",
    "outputId": "0a5cb8e4-f656-4122-b50a-e7716ef09086"
   },
   "outputs": [
    {
     "name": "stdout",
     "output_type": "stream",
     "text": [
      "list after inserting 'orange' at index 1: ['red', 'orange', 'blue', 'white', 'black']\n"
     ]
    }
   ],
   "source": [
    "print(\"list after inserting 'orange' at index 1:\", colors)"
   ]
  },
  {
   "cell_type": "markdown",
   "id": "65fc3cf7",
   "metadata": {
    "id": "WfFfxvLKjNS8"
   },
   "source": [
    "Create another list, colors2 = [‘Grey’, ‘Sky Blue’]"
   ]
  },
  {
   "cell_type": "code",
   "execution_count": 149,
   "id": "2d811f1a",
   "metadata": {
    "id": "onZEiwdUjNS8"
   },
   "outputs": [],
   "source": [
    "colors2 = ['Grey', 'Sky Blue']"
   ]
  },
  {
   "cell_type": "markdown",
   "id": "aa3c8b8f",
   "metadata": {
    "id": "MrNQk6uKjNS8"
   },
   "source": [
    "Add the elements of colors2 to colors using extend function in the list"
   ]
  },
  {
   "cell_type": "code",
   "execution_count": 150,
   "id": "c1c9eed6",
   "metadata": {
    "id": "Hr1Eu88OjNS9"
   },
   "outputs": [],
   "source": [
    "colors.extend(colors2)"
   ]
  },
  {
   "cell_type": "markdown",
   "id": "2f6bb305",
   "metadata": {
    "id": "u0KDeU20jNS9"
   },
   "source": [
    "Print len of colors and its elements"
   ]
  },
  {
   "cell_type": "code",
   "execution_count": 151,
   "id": "2edf28f2",
   "metadata": {
    "id": "bnBmsCg2jNS9",
    "outputId": "f126519a-bafd-4438-fe21-af7586b5740d"
   },
   "outputs": [
    {
     "name": "stdout",
     "output_type": "stream",
     "text": [
      "List after extending with colors2: ['red', 'orange', 'blue', 'white', 'black', 'Grey', 'Sky Blue']\n",
      "Length of colors: 7\n"
     ]
    }
   ],
   "source": [
    "print(\"List after extending with colors2:\", colors)\n",
    "print(\"Length of colors:\", len(colors))"
   ]
  },
  {
   "cell_type": "markdown",
   "id": "1fa0c620",
   "metadata": {
    "id": "vJ7YqokSjNS9"
   },
   "source": [
    "Sort the list and print it."
   ]
  },
  {
   "cell_type": "code",
   "execution_count": 152,
   "id": "16471320",
   "metadata": {
    "id": "X14C-1PtjNS9",
    "outputId": "02524dae-3592-47e2-98b0-77501aa15b64"
   },
   "outputs": [
    {
     "name": "stdout",
     "output_type": "stream",
     "text": [
      "Sorted list: ['Grey', 'Sky Blue', 'black', 'blue', 'orange', 'red', 'white']\n"
     ]
    }
   ],
   "source": [
    "colors.sort()\n",
    "print(\"Sorted list:\", colors)"
   ]
  },
  {
   "cell_type": "markdown",
   "id": "d05b2d4f",
   "metadata": {
    "id": "MdN5B9F9jNS-"
   },
   "source": [
    "### Create a string, sent = ‘Coronavirus Caused Lockdowns Around The World.”"
   ]
  },
  {
   "cell_type": "code",
   "execution_count": 153,
   "id": "d5240f1b",
   "metadata": {
    "id": "j4JUR085jNS-"
   },
   "outputs": [],
   "source": [
    "sent = 'Coronavirus Caused Lockdowns Around The World.'"
   ]
  },
  {
   "cell_type": "markdown",
   "id": "4cef264e",
   "metadata": {
    "id": "rcn18drOjNS-"
   },
   "source": [
    "Use split function to convert the string into a list of words and save it in variable words and print the same"
   ]
  },
  {
   "cell_type": "code",
   "execution_count": 154,
   "id": "8a10fd25",
   "metadata": {
    "id": "fjiKSboajNS-",
    "outputId": "b6bfb22e-147a-4d90-9428-d321d9824589"
   },
   "outputs": [
    {
     "name": "stdout",
     "output_type": "stream",
     "text": [
      "List of words: ['Coronavirus', 'Caused', 'Lockdowns', 'Around', 'The', 'World.']\n"
     ]
    }
   ],
   "source": [
    "words = sent.split()\n",
    "print(\"List of words:\", words)"
   ]
  },
  {
   "cell_type": "markdown",
   "id": "9aa40801",
   "metadata": {
    "id": "rowxhN26jNS_"
   },
   "source": [
    "Convert each word in the list to lower case and store it in variable words_lower. \n",
    "Print words_lower"
   ]
  },
  {
   "cell_type": "code",
   "execution_count": 155,
   "id": "9ac7d5f4",
   "metadata": {
    "id": "LuzAECOVjNS_",
    "outputId": "d2c5bbbe-af46-4659-fdcb-d5de59d24099"
   },
   "outputs": [
    {
     "name": "stdout",
     "output_type": "stream",
     "text": [
      "Lowercase words: ['coronavirus', 'caused', 'lockdowns', 'around', 'the', 'world.']\n"
     ]
    }
   ],
   "source": [
    "words_lower = [word.lower() for word in words]\n",
    "print(\"Lowercase words:\", words_lower)"
   ]
  },
  {
   "cell_type": "markdown",
   "id": "b0af8bb9",
   "metadata": {
    "id": "zznwP-l9jNS_"
   },
   "source": [
    "Check whether ‘country’ is in the list"
   ]
  },
  {
   "cell_type": "code",
   "execution_count": 156,
   "id": "676802b4",
   "metadata": {
    "id": "y-U1felnjNS_",
    "outputId": "1e5fb9dd-4add-4438-97da-60db75ce0fce"
   },
   "outputs": [
    {
     "name": "stdout",
     "output_type": "stream",
     "text": [
      "Is 'country' in the list? False\n"
     ]
    }
   ],
   "source": [
    "print(\"Is 'country' in the list?\", 'country' in words_lower)"
   ]
  },
  {
   "cell_type": "markdown",
   "id": "4f9a4ad5",
   "metadata": {
    "id": "AZMvSVKWjNS_"
   },
   "source": [
    "Remove the element ‘the’ from the list and print the list."
   ]
  },
  {
   "cell_type": "code",
   "execution_count": 157,
   "id": "c67e8e3d",
   "metadata": {
    "id": "bmDbpYd7jNS_",
    "outputId": "e96ddeed-af03-4d0c-a7dd-6c7a716e349a"
   },
   "outputs": [
    {
     "name": "stdout",
     "output_type": "stream",
     "text": [
      "List after removing 'the': ['coronavirus', 'caused', 'lockdowns', 'around', 'world.']\n"
     ]
    }
   ],
   "source": [
    "words_lower.remove('the')\n",
    "print(\"List after removing 'the':\", words_lower)"
   ]
  },
  {
   "cell_type": "markdown",
   "id": "03a5feb0",
   "metadata": {
    "id": "int3gJc0jNS_"
   },
   "source": [
    "Select the first 4 words from the list words_lower using slicing and store them in a new variable x4"
   ]
  },
  {
   "cell_type": "code",
   "execution_count": 158,
   "id": "e4e673fd",
   "metadata": {
    "id": "fXOJmYI1jNTA"
   },
   "outputs": [],
   "source": [
    "x4 = words_lower[:4]"
   ]
  },
  {
   "cell_type": "code",
   "execution_count": 159,
   "id": "51edf790",
   "metadata": {
    "id": "2Kb_1V9HjNTA",
    "outputId": "49b4815f-910d-45d2-da69-6be48927e099"
   },
   "outputs": [
    {
     "name": "stdout",
     "output_type": "stream",
     "text": [
      "First 4 words: ['coronavirus', 'caused', 'lockdowns', 'around']\n"
     ]
    }
   ],
   "source": [
    "# print x4\n",
    "print(\"First 4 words:\", x4)"
   ]
  },
  {
   "cell_type": "markdown",
   "id": "11052294",
   "metadata": {
    "id": "3HgP3nUmjNTA"
   },
   "source": [
    "Convert the list of elements to single string using join function and print it"
   ]
  },
  {
   "cell_type": "code",
   "execution_count": 160,
   "id": "34b9157c",
   "metadata": {
    "id": "hiXO7ekhjNTA",
    "outputId": "db0f6673-174f-4bee-f6c5-c7e7d4f4612b"
   },
   "outputs": [
    {
     "name": "stdout",
     "output_type": "stream",
     "text": [
      "Single string: coronavirus caused lockdowns around world.\n"
     ]
    }
   ],
   "source": [
    "single_string = ' '.join(words_lower)\n",
    "print(\"Single string:\", single_string)"
   ]
  },
  {
   "cell_type": "markdown",
   "id": "864fd4ba",
   "metadata": {
    "id": "tW6We_kvjNTA"
   },
   "source": [
    "## Sets"
   ]
  },
  {
   "cell_type": "markdown",
   "id": "68d14ac1",
   "metadata": {
    "id": "02qkte5xjNTA"
   },
   "source": [
    "### Create stud_grades = ['A','A','B','C','C','F']"
   ]
  },
  {
   "cell_type": "code",
   "execution_count": 161,
   "id": "756b8bfe",
   "metadata": {
    "id": "M5P_qZaTjNTB"
   },
   "outputs": [],
   "source": [
    "stud_grades = ['A', 'A', 'B', 'C', 'C', 'F']"
   ]
  },
  {
   "cell_type": "markdown",
   "id": "dd460928",
   "metadata": {
    "id": "XazCnMcBjNTB"
   },
   "source": [
    "Print the len of stud_grades"
   ]
  },
  {
   "cell_type": "code",
   "execution_count": 162,
   "id": "2365bf5d",
   "metadata": {
    "id": "gMMJN-V5jNTB",
    "outputId": "ae1dee90-d009-4230-b7ae-8ea1ee32cbfa"
   },
   "outputs": [
    {
     "name": "stdout",
     "output_type": "stream",
     "text": [
      "Length of stud_grades: 6\n"
     ]
    }
   ],
   "source": [
    "print(\"Length of stud_grades:\", len(stud_grades))"
   ]
  },
  {
   "cell_type": "markdown",
   "id": "694cf8e0",
   "metadata": {
    "id": "ALm7hstGjNTB"
   },
   "source": [
    "Create a new variable, stud_grades_set = set(stud_grades)"
   ]
  },
  {
   "cell_type": "code",
   "execution_count": 163,
   "id": "c7f7c007",
   "metadata": {},
   "outputs": [],
   "source": [
    "stud_grades_set = set(stud_grades)"
   ]
  },
  {
   "cell_type": "markdown",
   "id": "0ba5d3ea",
   "metadata": {
    "id": "JJESkQiJjNTB"
   },
   "source": [
    "Print stud_grades_set. "
   ]
  },
  {
   "cell_type": "code",
   "execution_count": 164,
   "id": "900a8185",
   "metadata": {
    "id": "Q-daiiLPjNTB",
    "outputId": "9b37d1b8-7765-4564-f706-a4f9482b7368"
   },
   "outputs": [
    {
     "name": "stdout",
     "output_type": "stream",
     "text": [
      "Set of grades: {'F', 'C', 'B', 'A'}\n"
     ]
    }
   ],
   "source": [
    "print(\"Set of grades:\", stud_grades_set)"
   ]
  },
  {
   "cell_type": "markdown",
   "id": "ceaefede",
   "metadata": {
    "id": "hNeCPwPOjNTC"
   },
   "source": [
    "print the type of stud_grades and stud_grades_set and print their corresponding elements. Try to understand the difference between them."
   ]
  },
  {
   "cell_type": "code",
   "execution_count": 165,
   "id": "7b884991",
   "metadata": {
    "id": "g7cntC0ojNTC",
    "outputId": "881a71e0-fd7e-4a3e-c340-95b6e736255a"
   },
   "outputs": [
    {
     "name": "stdout",
     "output_type": "stream",
     "text": [
      "Type of stud_grades: <class 'list'>\n",
      "Type of stud_grades_set: <class 'set'>\n"
     ]
    }
   ],
   "source": [
    "print(\"Type of stud_grades:\", type(stud_grades))\n",
    "print(\"Type of stud_grades_set:\", type(stud_grades_set))"
   ]
  },
  {
   "cell_type": "markdown",
   "id": "a6f031c8",
   "metadata": {
    "id": "WjzzJX8yjNTC"
   },
   "source": [
    "Add a new element ‘G’ to stud_grades_set"
   ]
  },
  {
   "cell_type": "code",
   "execution_count": 166,
   "id": "17260440",
   "metadata": {
    "id": "y80DVAlRjNTC"
   },
   "outputs": [],
   "source": [
    "stud_grades_set.add('G')"
   ]
  },
  {
   "cell_type": "markdown",
   "id": "6664cdc9",
   "metadata": {
    "id": "4TO9zhSJjNTC"
   },
   "source": [
    "Add element 'F' to stud_grades_set. and print it."
   ]
  },
  {
   "cell_type": "code",
   "execution_count": 167,
   "id": "fb767011",
   "metadata": {
    "id": "Bh4tc1zCjNTC",
    "outputId": "67cdce79-7542-4536-8824-7c3f08855f76"
   },
   "outputs": [
    {
     "name": "stdout",
     "output_type": "stream",
     "text": [
      "Updated set: {'C', 'A', 'B', 'G', 'F'}\n"
     ]
    }
   ],
   "source": [
    "stud_grades_set.add('F')\n",
    "print(\"Updated set:\", stud_grades_set)"
   ]
  },
  {
   "cell_type": "markdown",
   "id": "67a288e5",
   "metadata": {
    "id": "FSgM3DD5jNTD"
   },
   "source": [
    "!!Did you notice? set doesn't add an element if it's already present in it, unlike lists."
   ]
  },
  {
   "cell_type": "markdown",
   "id": "e05df774",
   "metadata": {
    "id": "tqz1GBM5jNTD"
   },
   "source": [
    "Remove ‘F’ from stud_grades_set"
   ]
  },
  {
   "cell_type": "code",
   "execution_count": 168,
   "id": "5a8ffb99",
   "metadata": {
    "id": "zOLBDdk0jNTD"
   },
   "outputs": [],
   "source": [
    "stud_grades_set.remove('F')"
   ]
  },
  {
   "cell_type": "markdown",
   "id": "b993a92a",
   "metadata": {
    "id": "wxMXywoRjNTD"
   },
   "source": [
    "Print the elements and the length of stud_grades_set"
   ]
  },
  {
   "cell_type": "code",
   "execution_count": 169,
   "id": "0471a018",
   "metadata": {
    "id": "lS582g27jNTD",
    "outputId": "03e846de-16c3-4f74-caf5-b11bb2519b91"
   },
   "outputs": [
    {
     "name": "stdout",
     "output_type": "stream",
     "text": [
      "Set after removing 'F': {'C', 'A', 'B', 'G'}\n",
      "Length of set: 4\n"
     ]
    }
   ],
   "source": [
    "print(\"Set after removing 'F':\", stud_grades_set)\n",
    "print(\"Length of set:\", len(stud_grades_set))"
   ]
  },
  {
   "cell_type": "markdown",
   "id": "59f79576",
   "metadata": {
    "id": "FctCYkNBjNTD"
   },
   "source": [
    "### Create colors = [‘red’,’blue’,’orange’], and fruits = [‘orange’,’grapes’,’apples’] "
   ]
  },
  {
   "cell_type": "code",
   "execution_count": 170,
   "id": "51f25686",
   "metadata": {},
   "outputs": [],
   "source": [
    "colors = ['red', 'blue', 'orange']\n",
    "fruits = ['orange', 'grapes', 'apples']"
   ]
  },
  {
   "cell_type": "markdown",
   "id": "66b95b57",
   "metadata": {
    "id": "kfIRtvphjNTE"
   },
   "source": [
    "Print color and fruits"
   ]
  },
  {
   "cell_type": "code",
   "execution_count": 171,
   "id": "934c6c72",
   "metadata": {
    "id": "q-gavK0-jNTE",
    "outputId": "6e0c3843-3efe-4e88-8a19-616e2cf4bdb3"
   },
   "outputs": [
    {
     "name": "stdout",
     "output_type": "stream",
     "text": [
      "Colors: ['red', 'blue', 'orange']\n",
      "Fruits: ['orange', 'grapes', 'apples']\n"
     ]
    }
   ],
   "source": [
    "print(\"Colors:\", colors)\n",
    "print(\"Fruits:\", fruits)"
   ]
  },
  {
   "cell_type": "markdown",
   "id": "e808caa6",
   "metadata": {
    "id": "uMOTrWwSjNTE"
   },
   "source": [
    "Create colors_set, and fruits_set. (using set() ) and print them"
   ]
  },
  {
   "cell_type": "code",
   "execution_count": 172,
   "id": "79af54ca",
   "metadata": {},
   "outputs": [
    {
     "name": "stdout",
     "output_type": "stream",
     "text": [
      "Colors set: {'orange', 'red', 'blue'}\n",
      "Fruits set: {'orange', 'apples', 'grapes'}\n"
     ]
    }
   ],
   "source": [
    "colors_set = set(colors)\n",
    "fruits_set = set(fruits)\n",
    "print(\"Colors set:\", colors_set)\n",
    "print(\"Fruits set:\", fruits_set)"
   ]
  },
  {
   "cell_type": "markdown",
   "id": "4d30686c",
   "metadata": {
    "id": "tW9fj0R1jNTE"
   },
   "source": [
    "Find the union of both the sets."
   ]
  },
  {
   "cell_type": "code",
   "execution_count": 173,
   "id": "c7e863d1",
   "metadata": {
    "id": "oyskI_CTjNTE",
    "outputId": "4e89c025-10ef-405c-cbd4-f8c1ae2f92b4"
   },
   "outputs": [
    {
     "name": "stdout",
     "output_type": "stream",
     "text": [
      "Union: {'orange', 'apples', 'red', 'grapes', 'blue'}\n"
     ]
    }
   ],
   "source": [
    "print(\"Union:\", colors_set.union(fruits_set))"
   ]
  },
  {
   "cell_type": "markdown",
   "id": "73eb943e",
   "metadata": {
    "id": "3yXYgYBLjNTF"
   },
   "source": [
    "Find the intersection of both the sets "
   ]
  },
  {
   "cell_type": "code",
   "execution_count": 174,
   "id": "7cf3d160",
   "metadata": {
    "id": "3AzYqu5sjNTF",
    "outputId": "01ae145a-f15b-4a20-b9bc-9d8a25cf1679"
   },
   "outputs": [
    {
     "name": "stdout",
     "output_type": "stream",
     "text": [
      "Intersection: {'orange'}\n"
     ]
    }
   ],
   "source": [
    "print(\"Intersection:\", colors_set.intersection(fruits_set))"
   ]
  },
  {
   "cell_type": "markdown",
   "id": "b63c2c0d",
   "metadata": {
    "id": "PuhlSjH_jNTF"
   },
   "source": [
    "Find the elements which are Fruits but not colors (using set.difference() )"
   ]
  },
  {
   "cell_type": "code",
   "execution_count": 175,
   "id": "0353357f",
   "metadata": {
    "id": "gBaxHXrfjNTF",
    "outputId": "2178193f-aae5-4e59-acc1-8bce28e28143"
   },
   "outputs": [
    {
     "name": "stdout",
     "output_type": "stream",
     "text": [
      "Fruits but not colors: {'apples', 'grapes'}\n"
     ]
    }
   ],
   "source": [
    "print(\"Fruits but not colors:\", fruits_set.difference(colors_set))"
   ]
  },
  {
   "cell_type": "markdown",
   "id": "386f4caa",
   "metadata": {
    "id": "hLZeBta3jNTF"
   },
   "source": [
    "## TUPLES"
   ]
  },
  {
   "cell_type": "markdown",
   "id": "ed395290",
   "metadata": {
    "id": "Nerhdg66jNTF"
   },
   "source": [
    "### Create temp = [17, ’Virat’, 50.0]"
   ]
  },
  {
   "cell_type": "code",
   "execution_count": 176,
   "id": "cedf92c9",
   "metadata": {},
   "outputs": [],
   "source": [
    "temp = [17, 'Virat', 50.0]"
   ]
  },
  {
   "cell_type": "markdown",
   "id": "5cfaa831",
   "metadata": {
    "id": "C0IuMJFijNTG"
   },
   "source": [
    "Iterate through temp and print all the items in temp"
   ]
  },
  {
   "cell_type": "code",
   "execution_count": 177,
   "id": "8e0627e1",
   "metadata": {
    "id": "CSKY_cgHjNTG",
    "outputId": "ec834f68-6713-4941-9fc3-dc0e59965222"
   },
   "outputs": [
    {
     "name": "stdout",
     "output_type": "stream",
     "text": [
      "17\n",
      "Virat\n",
      "50.0\n"
     ]
    }
   ],
   "source": [
    "for item in temp:\n",
    "    print(item)"
   ]
  },
  {
   "cell_type": "markdown",
   "id": "fcfe6c97",
   "metadata": {
    "id": "gI0kBGQ1jNTG"
   },
   "source": [
    "replace first element with 11 in temp"
   ]
  },
  {
   "cell_type": "code",
   "execution_count": 178,
   "id": "c090cdb8",
   "metadata": {
    "id": "p6JCtyOBjNTG"
   },
   "outputs": [],
   "source": [
    "temp[0] = 11"
   ]
  },
  {
   "cell_type": "markdown",
   "id": "b1fb6942",
   "metadata": {
    "id": "JV3b34AdjNTG"
   },
   "source": [
    "Set temp1 = tuple(temp)"
   ]
  },
  {
   "cell_type": "code",
   "execution_count": 179,
   "id": "3f7e4be2",
   "metadata": {},
   "outputs": [
    {
     "name": "stdout",
     "output_type": "stream",
     "text": [
      "Tuple temp1: (11, 'Virat', 50.0)\n"
     ]
    }
   ],
   "source": [
    "temp1 = tuple(temp)\n",
    "print(\"Tuple temp1:\", temp1)"
   ]
  },
  {
   "cell_type": "markdown",
   "id": "402004bd",
   "metadata": {
    "id": "Z9LJWgBkjNTG"
   },
   "source": [
    "Iterate through temp1 and print all the items in temp1. "
   ]
  },
  {
   "cell_type": "code",
   "execution_count": 180,
   "id": "c5b8d944",
   "metadata": {
    "id": "t0v-FZsNjNTH",
    "outputId": "7f98ae38-8bae-4687-f46b-31fb12ac5c6c"
   },
   "outputs": [
    {
     "name": "stdout",
     "output_type": "stream",
     "text": [
      "11\n",
      "Virat\n",
      "50.0\n"
     ]
    }
   ],
   "source": [
    "for item in temp1:\n",
    "    print(item)"
   ]
  },
  {
   "cell_type": "markdown",
   "id": "94175e7e",
   "metadata": {
    "id": "A4FXMQDfjNTH"
   },
   "source": [
    "replace first element with 17 in temp1"
   ]
  },
  {
   "cell_type": "code",
   "execution_count": 181,
   "id": "8ccac2c6",
   "metadata": {
    "id": "eioDSdW8jNTH",
    "outputId": "bf108fa6-bcad-4684-dc24-b9efbfc357a8"
   },
   "outputs": [
    {
     "name": "stdout",
     "output_type": "stream",
     "text": [
      "Error: 'tuple' object does not support item assignment\n",
      "Tuples are immutable, so you cannot change their elements once created.\n"
     ]
    }
   ],
   "source": [
    "try:\n",
    "    temp1[0] = 17\n",
    "except TypeError as e:\n",
    "    print(\"Error:\", e)\n",
    "    print(\"Tuples are immutable, so you cannot change their elements once created.\")"
   ]
  },
  {
   "cell_type": "markdown",
   "id": "2f1141c3",
   "metadata": {
    "id": "IuGIObFZjNTH"
   },
   "source": [
    "<b>Oops!! You got an error. Hey Don't worry! Its because Once a tuple is created, you cannot change its values unlike list.</b>"
   ]
  },
  {
   "cell_type": "markdown",
   "id": "8d29f798",
   "metadata": {
    "id": "ExB_cM1ZjNTH"
   },
   "source": [
    "### Create city = (\"Bangalore\", 28.9949521, 72)"
   ]
  },
  {
   "cell_type": "code",
   "execution_count": 182,
   "id": "1803c458",
   "metadata": {
    "id": "fWz52DjjjNTH"
   },
   "outputs": [],
   "source": [
    "city = (\"Bangalore\", 28.9949521, 72)"
   ]
  },
  {
   "cell_type": "markdown",
   "id": "47088327",
   "metadata": {
    "id": "v4ipyqXsjNTH"
   },
   "source": [
    "Print first element of city"
   ]
  },
  {
   "cell_type": "code",
   "execution_count": 183,
   "id": "5583950c",
   "metadata": {
    "id": "KJHMuFk1jNTI",
    "outputId": "f3915b36-1f5b-4ac1-e2bb-a53f9ce142f8"
   },
   "outputs": [
    {
     "name": "stdout",
     "output_type": "stream",
     "text": [
      "First element of city: Bangalore\n"
     ]
    }
   ],
   "source": [
    "print(\"First element of city:\", city[0])"
   ]
  },
  {
   "cell_type": "markdown",
   "id": "53b620c1",
   "metadata": {
    "id": "N5FoHg4ujNTI"
   },
   "source": [
    "Create city2 = (‘Chennai’, 30.01, 74)"
   ]
  },
  {
   "cell_type": "code",
   "execution_count": 184,
   "id": "3bd8d432",
   "metadata": {
    "id": "fYuGqbDEjNTI"
   },
   "outputs": [],
   "source": [
    "city2 = ('Chennai', 30.01, 74)"
   ]
  },
  {
   "cell_type": "markdown",
   "id": "22ecca3c",
   "metadata": {
    "id": "0gz-HACUjNTI"
   },
   "source": [
    "Create cities which consist of city and city2"
   ]
  },
  {
   "cell_type": "code",
   "execution_count": 185,
   "id": "8cf22efc",
   "metadata": {
    "id": "5dTN1LQPjNTI"
   },
   "outputs": [],
   "source": [
    "cities = (city, city2)"
   ]
  },
  {
   "cell_type": "markdown",
   "id": "9fd605d9",
   "metadata": {
    "id": "He-teRi2jNTI"
   },
   "source": [
    "Print cities"
   ]
  },
  {
   "cell_type": "code",
   "execution_count": 186,
   "id": "181a4675",
   "metadata": {
    "id": "ISySNfxGjNTI",
    "outputId": "bee231a2-a635-496f-b5b7-57795a0fd7ab"
   },
   "outputs": [
    {
     "name": "stdout",
     "output_type": "stream",
     "text": [
      "Nested tuple cities: (('Bangalore', 28.9949521, 72), ('Chennai', 30.01, 74))\n"
     ]
    }
   ],
   "source": [
    "print(\"Nested tuple cities:\", cities)"
   ]
  },
  {
   "cell_type": "markdown",
   "id": "d463d14b",
   "metadata": {
    "id": "brFx6-rtjNTJ"
   },
   "source": [
    "Print type of first element in cities"
   ]
  },
  {
   "cell_type": "code",
   "execution_count": 187,
   "id": "e1cfcebf",
   "metadata": {
    "id": "CmIifGybjNTJ",
    "outputId": "085cb498-1027-4ce6-8803-904d39050a97"
   },
   "outputs": [
    {
     "name": "stdout",
     "output_type": "stream",
     "text": [
      "Type of first element: <class 'tuple'>\n"
     ]
    }
   ],
   "source": [
    "print(\"Type of first element:\", type(cities[0]))"
   ]
  },
  {
   "cell_type": "markdown",
   "id": "f18da9e8",
   "metadata": {
    "id": "jtk8J_yHjNTJ"
   },
   "source": [
    "print the type of cities\n"
   ]
  },
  {
   "cell_type": "code",
   "execution_count": 188,
   "id": "789b7477",
   "metadata": {
    "id": "y9rdG29XjNTJ",
    "outputId": "2d1e34cb-5b76-44b4-e806-9287ee31fa87"
   },
   "outputs": [
    {
     "name": "stdout",
     "output_type": "stream",
     "text": [
      "Type of cities: <class 'tuple'>\n"
     ]
    }
   ],
   "source": [
    "print(\"Type of cities:\", type(cities))"
   ]
  },
  {
   "cell_type": "markdown",
   "id": "1c1431f9",
   "metadata": {
    "id": "uXHSadWqjNTJ"
   },
   "source": [
    "Hey that implies you made a nested tuples!!"
   ]
  },
  {
   "cell_type": "markdown",
   "id": "fee58e70",
   "metadata": {
    "id": "zViY-S_djNTJ"
   },
   "source": [
    "## DICTIONARY"
   ]
  },
  {
   "cell_type": "markdown",
   "id": "9e560933",
   "metadata": {
    "id": "4NjUxRaZjNTK"
   },
   "source": [
    "### Create a dictionary d = {\"actor\":\"amir\",\"animal\":\"cat\",\"earth\":2,\"list\":[23,32,12]}"
   ]
  },
  {
   "cell_type": "code",
   "execution_count": 189,
   "id": "de45b25d",
   "metadata": {
    "id": "UCtEFPI4jNTK"
   },
   "outputs": [],
   "source": [
    "d = {\"actor\": \"amir\", \"animal\": \"cat\", \"earth\": 2, \"list\": [23, 32, 12]}"
   ]
  },
  {
   "cell_type": "markdown",
   "id": "678ccb32",
   "metadata": {
    "id": "OamenDk8jNTK"
   },
   "source": [
    "Print the value of d[0]"
   ]
  },
  {
   "cell_type": "code",
   "execution_count": 190,
   "id": "00538404",
   "metadata": {
    "id": "gion3awcjNTK",
    "outputId": "59a88b33-f80a-4448-8c92-262c242ca689"
   },
   "outputs": [
    {
     "name": "stdout",
     "output_type": "stream",
     "text": [
      "Error: 0\n",
      "Dictionaries return values for keys. The key '0' does not exist here.\n"
     ]
    }
   ],
   "source": [
    "try:\n",
    "    print(d[0])\n",
    "except KeyError as e:\n",
    "    print(\"Error:\", e)\n",
    "    print(\"Dictionaries return values for keys. The key '0' does not exist here.\")"
   ]
  },
  {
   "cell_type": "markdown",
   "id": "d9e9baa7",
   "metadata": {
    "id": "XYtrrUigjNTK"
   },
   "source": [
    "<b>Oops!! again an error. again a fun fact. Dictionary return the value for key if key is in the dictionary, else throws KeyError\n",
    "and we don't have key 0 here :( </b>"
   ]
  },
  {
   "cell_type": "markdown",
   "id": "2bc4a34d",
   "metadata": {
    "id": "62VXYnw1jNTK"
   },
   "source": [
    "Store the value of d[‘actor’] to a new variable actor."
   ]
  },
  {
   "cell_type": "code",
   "execution_count": 191,
   "id": "134e7991",
   "metadata": {
    "id": "kkBfNz81jNTK"
   },
   "outputs": [],
   "source": [
    "actor = d['actor']"
   ]
  },
  {
   "cell_type": "markdown",
   "id": "9b0417d9",
   "metadata": {
    "id": "uFfuF569jNTL"
   },
   "source": [
    "Print the type of actor"
   ]
  },
  {
   "cell_type": "code",
   "execution_count": 192,
   "id": "ea52f73e",
   "metadata": {
    "id": "bKbFXBxyjNTL",
    "outputId": "ec200684-a8ac-403e-9aea-ca06a015a12e"
   },
   "outputs": [
    {
     "name": "stdout",
     "output_type": "stream",
     "text": [
      "Value of actor: amir\n",
      "Type of actor: <class 'str'>\n"
     ]
    }
   ],
   "source": [
    "print(\"Value of actor:\", actor)\n",
    "print(\"Type of actor:\", type(actor))"
   ]
  },
  {
   "cell_type": "markdown",
   "id": "064bdf6c",
   "metadata": {
    "id": "y549qN04jNTL"
   },
   "source": [
    "Store the value of d[‘list’] in new variable List. "
   ]
  },
  {
   "cell_type": "code",
   "execution_count": 193,
   "id": "35994345",
   "metadata": {
    "id": "I7GyOK8DjNTL"
   },
   "outputs": [],
   "source": [
    "List = d['list']"
   ]
  },
  {
   "cell_type": "markdown",
   "id": "1dbe7193",
   "metadata": {
    "id": "Ul1YMiuNjNTL"
   },
   "source": [
    "Print the type of List. "
   ]
  },
  {
   "cell_type": "code",
   "execution_count": 194,
   "id": "3c032dc4",
   "metadata": {
    "id": "V0VdG9y_jNTL",
    "outputId": "ca19430d-bd1d-456a-cb91-c156f73fe9b1"
   },
   "outputs": [
    {
     "name": "stdout",
     "output_type": "stream",
     "text": [
      "Value of List: [23, 32, 12]\n",
      "Type of List: <class 'list'>\n"
     ]
    }
   ],
   "source": [
    "print(\"Value of List:\", List)\n",
    "print(\"Type of List:\", type(List))"
   ]
  },
  {
   "cell_type": "markdown",
   "id": "95cad301",
   "metadata": {
    "id": "A0CEMABhjNTL"
   },
   "source": [
    "Create d1 = { ‘singer’ : ‘Kr$na’ , ‘album’: ‘Still here’, ‘genre’ : ‘hip-hop’}"
   ]
  },
  {
   "cell_type": "code",
   "execution_count": 195,
   "id": "b08e3ec3",
   "metadata": {
    "id": "FCGCw5FEjNTL"
   },
   "outputs": [],
   "source": [
    "d1 = {'singer': 'Kr$na', 'album': 'Still here', 'genre': 'hip-hop'}"
   ]
  },
  {
   "cell_type": "markdown",
   "id": "102ce38f",
   "metadata": {
    "id": "ybGIILrLjNTM"
   },
   "source": [
    "Merge d1 into d."
   ]
  },
  {
   "cell_type": "code",
   "execution_count": 196,
   "id": "3eb334fa",
   "metadata": {
    "id": "UmDbbQJPjNTM"
   },
   "outputs": [],
   "source": [
    "d.update(d1)"
   ]
  },
  {
   "cell_type": "markdown",
   "id": "6c43ae23",
   "metadata": {
    "id": "jhAPX45ZjNTM"
   },
   "source": [
    "print d"
   ]
  },
  {
   "cell_type": "code",
   "execution_count": 197,
   "id": "42d67adb",
   "metadata": {
    "id": "785S26ryjNTM",
    "outputId": "82043717-4c5e-4622-8e11-f13d74dd5cc4"
   },
   "outputs": [
    {
     "name": "stdout",
     "output_type": "stream",
     "text": [
      "Merged dictionary: {'actor': 'amir', 'animal': 'cat', 'earth': 2, 'list': [23, 32, 12], 'singer': 'Kr$na', 'album': 'Still here', 'genre': 'hip-hop'}\n"
     ]
    }
   ],
   "source": [
    "print(\"Merged dictionary:\", d)"
   ]
  },
  {
   "cell_type": "markdown",
   "id": "f3f9ad92",
   "metadata": {
    "id": "9E852mY2jNTM"
   },
   "source": [
    "Print all the keys in d"
   ]
  },
  {
   "cell_type": "code",
   "execution_count": 198,
   "id": "f56ae001",
   "metadata": {
    "id": "7K843OrLjNTM",
    "outputId": "4336a57d-eabe-47a7-d910-82c5c8614754"
   },
   "outputs": [
    {
     "name": "stdout",
     "output_type": "stream",
     "text": [
      "Keys: dict_keys(['actor', 'animal', 'earth', 'list', 'singer', 'album', 'genre'])\n"
     ]
    }
   ],
   "source": [
    "print(\"Keys:\", d.keys())"
   ]
  },
  {
   "cell_type": "markdown",
   "id": "419fbcc9",
   "metadata": {
    "id": "fiuzxbGkjNTN"
   },
   "source": [
    "Print all the values in d"
   ]
  },
  {
   "cell_type": "code",
   "execution_count": 199,
   "id": "5dfcd482",
   "metadata": {
    "id": "Pyhh6r0pjNTN",
    "outputId": "8d13b380-1e1f-418c-84e6-ac0638a056e2"
   },
   "outputs": [
    {
     "name": "stdout",
     "output_type": "stream",
     "text": [
      "Values: dict_values(['amir', 'cat', 2, [23, 32, 12], 'Kr$na', 'Still here', 'hip-hop'])\n"
     ]
    }
   ],
   "source": [
    "print(\"Values:\", d.values())"
   ]
  },
  {
   "cell_type": "markdown",
   "id": "e728c6e7",
   "metadata": {
    "id": "XSoe8GWmjNTN"
   },
   "source": [
    "Iterate over d, and print each key, value pair as this - (actor ----> amir)"
   ]
  },
  {
   "cell_type": "code",
   "execution_count": 200,
   "id": "cd44b5d1",
   "metadata": {
    "id": "O0iW9kiqjNTO",
    "outputId": "d9ab5c07-3de4-4939-dd9e-d6ff75c9aa07"
   },
   "outputs": [
    {
     "name": "stdout",
     "output_type": "stream",
     "text": [
      "actor ----> amir\n",
      "animal ----> cat\n",
      "earth ----> 2\n",
      "list ----> [23, 32, 12]\n",
      "singer ----> Kr$na\n",
      "album ----> Still here\n",
      "genre ----> hip-hop\n"
     ]
    }
   ],
   "source": [
    "for key, value in d.items():\n",
    "    print(f\"{key} ----> {value}\")"
   ]
  },
  {
   "cell_type": "markdown",
   "id": "1300bc09",
   "metadata": {
    "id": "Hhzm-EIsjNTO"
   },
   "source": [
    "count the number of occurences of charachters in string named \"sent\" using dictionary and print the same.\n"
   ]
  },
  {
   "cell_type": "code",
   "execution_count": 201,
   "id": "ab1d8cde",
   "metadata": {
    "id": "IvRlvUAljNTP",
    "outputId": "40f08e65-b884-4b00-aaf4-2cacd1083752"
   },
   "outputs": [
    {
     "name": "stdout",
     "output_type": "stream",
     "text": [
      "Character count: {'C': 2, 'o': 6, 'r': 4, 'n': 3, 'a': 2, 'v': 1, 'i': 1, 'u': 3, 's': 3, ' ': 5, 'e': 2, 'd': 4, 'L': 1, 'c': 1, 'k': 1, 'w': 1, 'A': 1, 'T': 1, 'h': 1, 'W': 1, 'l': 1, '.': 1}\n"
     ]
    }
   ],
   "source": [
    "char_count = {}\n",
    "for char in sent:\n",
    "    char_count[char] = char_count.get(char, 0) + 1\n",
    "print(\"Character count:\", char_count)"
   ]
  }
 ],
 "metadata": {
  "colab": {
   "collapsed_sections": [],
   "provenance": []
  },
  "kernelspec": {
   "display_name": "Python 3",
   "language": "python",
   "name": "python3"
  },
  "language_info": {
   "codemirror_mode": {
    "name": "ipython",
    "version": 3
   },
   "file_extension": ".py",
   "mimetype": "text/x-python",
   "name": "python",
   "nbconvert_exporter": "python",
   "pygments_lexer": "ipython3",
   "version": "3.13.0"
  }
 },
 "nbformat": 4,
 "nbformat_minor": 5
}
